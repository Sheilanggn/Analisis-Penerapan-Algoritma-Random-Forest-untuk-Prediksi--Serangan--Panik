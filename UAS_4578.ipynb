{
  "nbformat": 4,
  "nbformat_minor": 0,
  "metadata": {
    "colab": {
      "private_outputs": true,
      "provenance": []
    },
    "kernelspec": {
      "name": "python3",
      "display_name": "Python 3"
    },
    "language_info": {
      "name": "python"
    }
  },
  "cells": [
    {
      "cell_type": "code",
      "execution_count": null,
      "metadata": {
        "id": "-ym1jdhGWYlc"
      },
      "outputs": [],
      "source": [
        "import numpy as np\n",
        "import pandas as pd\n",
        "import matplotlib.pyplot as plt\n",
        "import seaborn as sns\n",
        "from sklearn.preprocessing import LabelEncoder, StandardScaler\n",
        "from sklearn.model_selection import train_test_split\n",
        "from sklearn.ensemble import RandomForestRegressor\n",
        "from sklearn.metrics import mean_squared_error, r2_score, confusion_matrix, classification_report\n",
        "from sklearn.impute import SimpleImputer\n"
      ]
    },
    {
      "cell_type": "code",
      "source": [
        "# Memuat dataset\n",
        "data = pd.read_csv('/content/panic_attack_dataset.csv')"
      ],
      "metadata": {
        "id": "odF8mWi1cijx"
      },
      "execution_count": null,
      "outputs": []
    },
    {
      "cell_type": "code",
      "source": [
        "data.head()"
      ],
      "metadata": {
        "id": "AWFoIjzdcuWR"
      },
      "execution_count": null,
      "outputs": []
    },
    {
      "cell_type": "code",
      "source": [
        "print(data.describe())"
      ],
      "metadata": {
        "id": "LH4MewHTc2Na"
      },
      "execution_count": null,
      "outputs": []
    },
    {
      "cell_type": "code",
      "source": [
        "#memeriksa nilai yang hilang\n",
        "(data.isnull().sum())"
      ],
      "metadata": {
        "id": "UdMaagGwcihR"
      },
      "execution_count": null,
      "outputs": []
    },
    {
      "cell_type": "code",
      "source": [
        "#mengganti nilai null menjadi 0\n",
        "data = data.fillna(0)\n",
        "#mengecek kolom yang sudah diganti nilai nullnya menjadi 0\n",
        "data.isnull().sum()"
      ],
      "metadata": {
        "id": "XKMhfiKbdkaj"
      },
      "execution_count": null,
      "outputs": []
    },
    {
      "cell_type": "markdown",
      "source": [
        "# **EDA**"
      ],
      "metadata": {
        "id": "hg3RMTRNd-yn"
      }
    },
    {
      "cell_type": "code",
      "source": [
        "# Distribusi Frekuensi Serangan Panik berdasarkan Gender\n",
        "sns.countplot(x='Gender', hue='Panic_Attack_Frequency', data=data)\n",
        "plt.title('Frekuensi Serangan Panik berdasarkan Gender')\n",
        "plt.show()"
      ],
      "metadata": {
        "id": "xpYc7omDWdsd"
      },
      "execution_count": null,
      "outputs": []
    },
    {
      "cell_type": "code",
      "source": [
        "# Box Plot Durasi berdasarkan Gender\n",
        "plt.figure(figsize=(10, 6))\n",
        "sns.boxplot(x='Gender', y='Duration_Minutes', data=data)\n",
        "plt.title('Box Plot Durasi dalam Menit berdasarkan Gender')\n",
        "plt.xlabel('Gender')\n",
        "plt.ylabel('Durasi (Menit)')\n",
        "plt.show()"
      ],
      "metadata": {
        "id": "3qkiWy87z5lI"
      },
      "execution_count": null,
      "outputs": []
    },
    {
      "cell_type": "code",
      "source": [
        "# Histogram distribusi usia\n",
        "plt.figure(figsize=(10, 6))\n",
        "sns.histplot(data['Age'], bins=30, kde=True)\n",
        "plt.title('Distribusi Usia')\n",
        "plt.xlabel('Usia')\n",
        "plt.ylabel('Frekuensi')\n",
        "plt.show()"
      ],
      "metadata": {
        "id": "mmQa2I8Xz7wk"
      },
      "execution_count": null,
      "outputs": []
    },
    {
      "cell_type": "code",
      "source": [
        "# Membuat bar chart untuk visualisasi distribusi kesehatan mental mahasiswa\n",
        "plt.figure(figsize=(10, 6))\n",
        "sns.barplot(x='Condition', y='Frequency', data=pd.DataFrame({'Condition': ['Depresi', 'Kecemasan', 'Serangan Panik'],\n",
        "                                                             'Frequency': [65, 66, 67]}))\n",
        "plt.title('Distribusi Kondisi Kesehatan Mental Mahasiswa')\n",
        "plt.xlabel('Kondisi Kesehatan Mental')\n",
        "plt.ylabel('Frekuensi')\n",
        "plt.show()"
      ],
      "metadata": {
        "id": "ZambBGV-0inX"
      },
      "execution_count": null,
      "outputs": []
    },
    {
      "cell_type": "markdown",
      "source": [
        "# **PRE-PROSECCING**"
      ],
      "metadata": {
        "id": "7s21iErqeOiH"
      }
    },
    {
      "cell_type": "code",
      "source": [
        "# Mengimputasi nilai yang hilang untuk kolom kategorikal jika diperlukan\n",
        "imputer = SimpleImputer(strategy='most_frequent')\n",
        "data['Caffeine_Intake'] = imputer.fit_transform(data[['Caffeine_Intake']])\n",
        "\n",
        "# Memisahkan data menjadi fitur dan variabel target untuk regresi\n",
        "X = data.drop(['Panic_Attack_Frequency'], axis=1)\n",
        "y = data['Panic_Attack_Frequency']\n",
        "\n",
        "# Melakukan encoding pada variabel kategorikal menggunakan Label Encoding untuk fitur regresi\n",
        "categorical_columns = X.select_dtypes(include=['object']).columns.tolist()\n",
        "label_encoders = {}\n",
        "for column in categorical_columns:\n",
        "    le = LabelEncoder()\n",
        "    X[column] = le.fit_transform(X[column].astype(str))\n",
        "    label_encoders[column] = le\n",
        "\n",
        "# Standarisasi set fitur\n",
        "scaler = StandardScaler()\n",
        "X_scaled = scaler.fit_transform(X)\n"
      ],
      "metadata": {
        "id": "6i7KJ4XnWeaC"
      },
      "execution_count": null,
      "outputs": []
    },
    {
      "cell_type": "markdown",
      "source": [
        "# **IMPLEMENTASI ALGORITMA RANDOM FOREST**"
      ],
      "metadata": {
        "id": "LIAt-5PbeZnT"
      }
    },
    {
      "cell_type": "code",
      "source": [
        "# Memisahkan data menjadi set pelatihan dan pengujian untuk analisis regresi\n",
        "X_train, X_test, y_train, y_test = train_test_split(X, y, test_size=0.2, random_state=42)\n",
        "\n",
        "# Menggunakan Random Forest Regressor untuk model regresi\n",
        "rf_model = RandomForestRegressor(n_estimators=100, random_state=42)\n",
        "rf_model.fit(X_train, y_train)\n",
        "\n"
      ],
      "metadata": {
        "id": "o0PmDVzWWeXq"
      },
      "execution_count": null,
      "outputs": []
    },
    {
      "cell_type": "code",
      "source": [
        "# Melakukan prediksi pada set pengujian\n",
        "y_pred = rf_model.predict(X_test)\n",
        "\n",
        "# Mengevaluasi kinerja model regresi\n",
        "mse = mean_squared_error(y_test, y_pred)\n",
        "r2 = r2_score(y_test, y_pred)\n",
        "\n",
        "print(\"=== Evaluasi Model Regresi ===\")\n",
        "print(f'Mean Squared Error(MSE): {mse:.2f}')\n",
        "print(f'R^2 Score: {r2:.2f}')\n"
      ],
      "metadata": {
        "id": "M4pPIYRXuXey"
      },
      "execution_count": null,
      "outputs": []
    },
    {
      "cell_type": "markdown",
      "source": [
        "# **SELEKSI FITUR**"
      ],
      "metadata": {
        "id": "C2EHij9xgPTq"
      }
    },
    {
      "cell_type": "code",
      "source": [
        "# Seleksi Fitur berdasarkan Feature Importance dari Random Forest\n",
        "feature_importances = rf_model.feature_importances_\n",
        "features = X.columns\n",
        "\n",
        "# Membuat DataFrame untuk menampilkan fitur dan pentingnya\n",
        "importance_df = pd.DataFrame({'Feature': features, 'Importance': feature_importances})\n",
        "importance_df.sort_values(by='Importance', ascending=False, inplace=True)\n",
        "\n",
        "# Menampilkan fitur yang paling penting\n",
        "print(importance_df)"
      ],
      "metadata": {
        "id": "J_Z_6VS0gS9W"
      },
      "execution_count": null,
      "outputs": []
    },
    {
      "cell_type": "code",
      "source": [
        "# Visualisasi Feature Importance\n",
        "plt.figure(figsize=(12, 6))\n",
        "sns.barplot(x='Importance', y='Feature', data=importance_df)\n",
        "plt.title('Feature Importance dari Model Random Forest')\n",
        "plt.show()"
      ],
      "metadata": {
        "id": "Ns0OIqP9gax-"
      },
      "execution_count": null,
      "outputs": []
    },
    {
      "cell_type": "markdown",
      "source": [
        "# **VISUALISASI HASIL PREDIKSI**"
      ],
      "metadata": {
        "id": "Qx3upAVyeg2Q"
      }
    },
    {
      "cell_type": "code",
      "source": [
        "# Visualisasi hasil prediksi dibandingkan dengan nilai aktual\n",
        "plt.figure(figsize=(10, 6))\n",
        "plt.scatter(y_test, y_pred)\n",
        "plt.plot([y.min(), y.max()], [y.min(), y.max()], 'k--', lw=2)\n",
        "plt.xlabel('Nilai Aktual')\n",
        "plt.ylabel('Prediksi')\n",
        "plt.title('Prediksi vs Nilai Aktual')\n",
        "plt.show()\n"
      ],
      "metadata": {
        "id": "IXhd9scNWeVG"
      },
      "execution_count": null,
      "outputs": []
    },
    {
      "cell_type": "markdown",
      "source": [
        "# **KLASIFIKASI DAN CONFUSION MATRIX**"
      ],
      "metadata": {
        "id": "6HSA8QSDemb4"
      }
    },
    {
      "cell_type": "code",
      "source": [
        "# Membuat variabel target biner berdasarkan frekuensi serangan panik.\n",
        "y_classification = (data['Panic_Attack_Frequency'] > 5).astype(int)  # Contoh threshold\n",
        "\n",
        "# Memisahkan data menjadi set pelatihan dan pengujian untuk analisis klasifikasi\n",
        "X_train_class, X_test_class, y_train_class, y_test_class = train_test_split(X, y_classification, test_size=0.2, random_state=42)\n",
        "\n",
        "# Menggunakan Logistic Regression sebagai contoh model klasifikasi\n",
        "from sklearn.linear_model import LogisticRegression\n",
        "\n",
        "classifier_model = LogisticRegression(max_iter=1000)\n",
        "classifier_model.fit(X_train_class, y_train_class)\n",
        "\n",
        "# Melakukan prediksi pada set pengujian untuk klasifikasi\n",
        "y_pred_class = classifier_model.predict(X_test_class)\n",
        "\n",
        "# Mengevaluasi kinerja model klasifikasi dengan confusion matrix\n",
        "confusion_mat_class = confusion_matrix(y_test_class, y_pred_class)\n",
        "print('Confusion Matrix:\\n', confusion_mat_class)\n",
        "\n",
        "class_report_class = classification_report(y_test_class, y_pred_class)\n",
        "print('Classification Report:\\n', class_report_class)\n",
        "\n",
        "# Visualisasi Heatmap untuk Confusion Matrix\n",
        "plt.figure(figsize=(8, 6))\n",
        "sns.heatmap(confusion_mat_class, annot=True, fmt='d', cmap='Blues', xticklabels=['Tidak Panic', 'Panic'], yticklabels=['Tidak Panic', 'Panic'])\n",
        "plt.title('Heatmap Confusion Matrix')\n",
        "plt.xlabel('Label Prediksi')\n",
        "plt.ylabel('Label Aktual')\n",
        "plt.show()\n",
        "\n"
      ],
      "metadata": {
        "id": "loBXYFIhWeSS"
      },
      "execution_count": null,
      "outputs": []
    }
  ]
}